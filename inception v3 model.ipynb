{
 "cells": [
  {
   "cell_type": "code",
   "execution_count": 1,
   "metadata": {},
   "outputs": [
    {
     "name": "stderr",
     "output_type": "stream",
     "text": [
      "Using TensorFlow backend.\n"
     ]
    }
   ],
   "source": [
    "import keras\n",
    "from keras.preprocessing.image import ImageDataGenerator\n",
    "from keras.applications.inception_v3 import InceptionV3\n",
    "from keras.layers import Dense, GlobalAveragePooling2D\n",
    "from keras.models import Model\n",
    "from keras import optimizers\n",
    "import matplotlib.pyplot as plt\n",
    "%matplotlib inline"
   ]
  },
  {
   "cell_type": "code",
   "execution_count": 2,
   "metadata": {},
   "outputs": [
    {
     "name": "stdout",
     "output_type": "stream",
     "text": [
      "Found 22110 images belonging to 33 classes.\n",
      "Found 4132 images belonging to 33 classes.\n"
     ]
    }
   ],
   "source": [
    "train_datagen = ImageDataGenerator(rescale=1./255)\n",
    "test_datagen  = ImageDataGenerator(rescale=1./255)\n",
    "train_dir     = '/home/asus/Desktop/Dataset_splits/train/'\n",
    "test_dir      = '/home/asus/Desktop/Dataset_splits/validation/'\n",
    "train_generator = train_datagen.flow_from_directory(train_dir, target_size=(299, 299), \\\n",
    "                                                    batch_size=128, class_mode='categorical')\n",
    "test_generator = test_datagen.flow_from_directory(test_dir, target_size=(299, 299), \\\n",
    "                                                    batch_size=128, class_mode='categorical')"
   ]
  },
  {
   "cell_type": "code",
   "execution_count": 3,
   "metadata": {},
   "outputs": [],
   "source": [
    "\n",
    "# create the base pre-trained model\n",
    "base_model = InceptionV3(weights='imagenet', include_top=False)\n",
    "# Get the output layer from the pre-trained Inception V3 model\n",
    "x = base_model.output\n",
    "\n",
    "# Now, add new layers that will be trained with our data\n",
    "# These layers will be randomly initialized\n",
    "x = GlobalAveragePooling2D()(x)\n",
    "x = Dense(64, activation='relu')(x)\n",
    "predictions = Dense(33, activation='softmax')(x)\n",
    "\n",
    "# Get the final Model to train\n",
    "model = Model(inputs=base_model.input, outputs=predictions)\n",
    "\n",
    "# Freeze the layers from the original base model so that we don't update the weights\n",
    "for layer in base_model.layers:\n",
    "    layer.trainable = False"
   ]
  },
  {
   "cell_type": "code",
   "execution_count": 4,
   "metadata": {},
   "outputs": [],
   "source": [
    "adam = optimizers.adam(lr=0.001)\n",
    "# Compile the new model\n",
    "model.compile(optimizer='adam', loss='categorical_crossentropy', metrics=['accuracy'])"
   ]
  },
  {
   "cell_type": "code",
   "execution_count": 5,
   "metadata": {
    "scrolled": false
   },
   "outputs": [
    {
     "name": "stdout",
     "output_type": "stream",
     "text": [
      "Epoch 1/30\n",
      "173/173 [==============================] - 2166s 13s/step - loss: 1.4632 - accuracy: 0.6210 - val_loss: 1.9371 - val_accuracy: 0.3928\n",
      "\n",
      "Epoch 00001: val_accuracy improved from -inf to 0.39279, saving model to model.01-0.39.hdf5\n",
      "Epoch 2/30\n",
      "173/173 [==============================] - 2384s 14s/step - loss: 0.6670 - accuracy: 0.8033 - val_loss: 1.2925 - val_accuracy: 0.4622\n",
      "\n",
      "Epoch 00002: val_accuracy improved from 0.39279 to 0.46225, saving model to model.02-0.46.hdf5\n",
      "Epoch 3/30\n",
      "173/173 [==============================] - 2217s 13s/step - loss: 0.5137 - accuracy: 0.8390 - val_loss: 2.1637 - val_accuracy: 0.4584\n",
      "\n",
      "Epoch 00003: val_accuracy did not improve from 0.46225\n",
      "Epoch 4/30\n",
      "173/173 [==============================] - 2214s 13s/step - loss: 0.4419 - accuracy: 0.8591 - val_loss: 1.6824 - val_accuracy: 0.4598\n",
      "\n",
      "Epoch 00004: val_accuracy did not improve from 0.46225\n",
      "Epoch 5/30\n",
      "173/173 [==============================] - 2353s 14s/step - loss: 0.3850 - accuracy: 0.8766 - val_loss: 1.5136 - val_accuracy: 0.4840\n",
      "\n",
      "Epoch 00005: val_accuracy improved from 0.46225 to 0.48403, saving model to model.05-0.48.hdf5\n",
      "Epoch 6/30\n",
      "173/173 [==============================] - 2443s 14s/step - loss: 0.3505 - accuracy: 0.8849 - val_loss: 1.3840 - val_accuracy: 0.5235\n",
      "\n",
      "Epoch 00006: val_accuracy improved from 0.48403 to 0.52348, saving model to model.06-0.52.hdf5\n",
      "Epoch 7/30\n",
      "173/173 [==============================] - 2219s 13s/step - loss: 0.3200 - accuracy: 0.8967 - val_loss: 1.5345 - val_accuracy: 0.4995\n",
      "\n",
      "Epoch 00007: val_accuracy did not improve from 0.52348\n",
      "Epoch 8/30\n",
      "173/173 [==============================] - 2218s 13s/step - loss: 0.3006 - accuracy: 0.8991 - val_loss: 1.5930 - val_accuracy: 0.4555\n",
      "\n",
      "Epoch 00008: val_accuracy did not improve from 0.52348\n",
      "Epoch 9/30\n",
      "173/173 [==============================] - 2489s 14s/step - loss: 0.2812 - accuracy: 0.9069 - val_loss: 2.4616 - val_accuracy: 0.4961\n",
      "\n",
      "Epoch 00009: val_accuracy did not improve from 0.52348\n",
      "Epoch 10/30\n",
      "173/173 [==============================] - 2219s 13s/step - loss: 0.2630 - accuracy: 0.9118 - val_loss: 1.9604 - val_accuracy: 0.5063\n",
      "\n",
      "Epoch 00010: val_accuracy did not improve from 0.52348\n",
      "Epoch 11/30\n",
      "173/173 [==============================] - 2446s 14s/step - loss: 0.2467 - accuracy: 0.9189 - val_loss: 2.7834 - val_accuracy: 0.4458\n",
      "\n",
      "Epoch 00011: val_accuracy did not improve from 0.52348\n",
      "Epoch 12/30\n",
      "173/173 [==============================] - 2482s 14s/step - loss: 0.2380 - accuracy: 0.9223 - val_loss: 1.8466 - val_accuracy: 0.4579\n",
      "\n",
      "Epoch 00012: val_accuracy did not improve from 0.52348\n",
      "Epoch 13/30\n",
      "173/173 [==============================] - 2220s 13s/step - loss: 0.2244 - accuracy: 0.9270 - val_loss: 3.2383 - val_accuracy: 0.4504\n",
      "\n",
      "Epoch 00013: val_accuracy did not improve from 0.52348\n",
      "Epoch 14/30\n",
      "173/173 [==============================] - 2218s 13s/step - loss: 0.2146 - accuracy: 0.9284 - val_loss: 1.7859 - val_accuracy: 0.4666\n",
      "\n",
      "Epoch 00014: val_accuracy did not improve from 0.52348\n",
      "Epoch 15/30\n",
      "173/173 [==============================] - 2215s 13s/step - loss: 0.2047 - accuracy: 0.9321 - val_loss: 1.6199 - val_accuracy: 0.4475\n",
      "\n",
      "Epoch 00015: val_accuracy did not improve from 0.52348\n",
      "Epoch 16/30\n",
      "173/173 [==============================] - 2372s 14s/step - loss: 0.1935 - accuracy: 0.9343 - val_loss: 2.1018 - val_accuracy: 0.4659\n",
      "\n",
      "Epoch 00016: val_accuracy did not improve from 0.52348\n",
      "Epoch 17/30\n",
      "173/173 [==============================] - 2457s 14s/step - loss: 0.1912 - accuracy: 0.9355 - val_loss: 1.6543 - val_accuracy: 0.4794\n",
      "\n",
      "Epoch 00017: val_accuracy did not improve from 0.52348\n",
      "Epoch 18/30\n",
      "173/173 [==============================] - 2218s 13s/step - loss: 0.1803 - accuracy: 0.9407 - val_loss: 2.1467 - val_accuracy: 0.4966\n",
      "\n",
      "Epoch 00018: val_accuracy did not improve from 0.52348\n",
      "Epoch 19/30\n",
      "173/173 [==============================] - 2217s 13s/step - loss: 0.1818 - accuracy: 0.9392 - val_loss: 2.7631 - val_accuracy: 0.4405\n",
      "\n",
      "Epoch 00019: val_accuracy did not improve from 0.52348\n",
      "Epoch 20/30\n",
      "173/173 [==============================] - 2581s 15s/step - loss: 0.1650 - accuracy: 0.9458 - val_loss: 2.6156 - val_accuracy: 0.4477\n",
      "\n",
      "Epoch 00020: val_accuracy did not improve from 0.52348\n",
      "Epoch 21/30\n",
      "173/173 [==============================] - 2218s 13s/step - loss: 0.1653 - accuracy: 0.9438 - val_loss: 2.6885 - val_accuracy: 0.4676\n",
      "\n",
      "Epoch 00021: val_accuracy did not improve from 0.52348\n",
      "Epoch 22/30\n",
      "173/173 [==============================] - 2221s 13s/step - loss: 0.1597 - accuracy: 0.9463 - val_loss: 2.8951 - val_accuracy: 0.4789\n",
      "\n",
      "Epoch 00022: val_accuracy did not improve from 0.52348\n",
      "Epoch 23/30\n",
      "173/173 [==============================] - 2220s 13s/step - loss: 0.1528 - accuracy: 0.9478 - val_loss: 3.6241 - val_accuracy: 0.4649\n",
      "\n",
      "Epoch 00023: val_accuracy did not improve from 0.52348\n",
      "Epoch 24/30\n",
      "173/173 [==============================] - 2219s 13s/step - loss: 0.1440 - accuracy: 0.9530 - val_loss: 2.0869 - val_accuracy: 0.4347\n",
      "\n",
      "Epoch 00024: val_accuracy did not improve from 0.52348\n",
      "Epoch 25/30\n",
      "173/173 [==============================] - 2482s 14s/step - loss: 0.1428 - accuracy: 0.9510 - val_loss: 2.1780 - val_accuracy: 0.4654\n",
      "\n",
      "Epoch 00025: val_accuracy did not improve from 0.52348\n",
      "Epoch 26/30\n",
      "173/173 [==============================] - 2297s 13s/step - loss: 0.1366 - accuracy: 0.9544 - val_loss: 2.3621 - val_accuracy: 0.4622\n",
      "\n",
      "Epoch 00026: val_accuracy did not improve from 0.52348\n",
      "Epoch 27/30\n",
      "173/173 [==============================] - 2219s 13s/step - loss: 0.1306 - accuracy: 0.9565 - val_loss: 2.9968 - val_accuracy: 0.4630\n",
      "\n",
      "Epoch 00027: val_accuracy did not improve from 0.52348\n",
      "Epoch 28/30\n",
      "173/173 [==============================] - 2219s 13s/step - loss: 0.1275 - accuracy: 0.9560 - val_loss: 2.8358 - val_accuracy: 0.4864\n",
      "\n",
      "Epoch 00028: val_accuracy did not improve from 0.52348\n",
      "Epoch 29/30\n",
      "173/173 [==============================] - 2277s 13s/step - loss: 0.1189 - accuracy: 0.9605 - val_loss: 3.2147 - val_accuracy: 0.4506\n",
      "\n",
      "Epoch 00029: val_accuracy did not improve from 0.52348\n",
      "Epoch 30/30\n",
      "173/173 [==============================] - 2229s 13s/step - loss: 0.1142 - accuracy: 0.9634 - val_loss: 3.7986 - val_accuracy: 0.4673\n",
      "\n",
      "Epoch 00030: val_accuracy did not improve from 0.52348\n"
     ]
    }
   ],
   "source": [
    "# Setup a callback to save the best model\n",
    "callbacks = [keras.callbacks.ModelCheckpoint('model.{epoch:02d}-{val_accuracy:.2f}.hdf5', monitor='val_accuracy',\\\n",
    " verbose=1, save_best_only=True, mode='max', period=1)]\n",
    "\n",
    "# Fit the data and output the history\n",
    "history = model.fit_generator(train_generator, verbose=1, steps_per_epoch=len(train_generator), epochs=30, \\\n",
    " validation_data=test_generator, validation_steps=len(test_generator), callbacks=callbacks)"
   ]
  },
  {
   "cell_type": "code",
   "execution_count": 9,
   "metadata": {},
   "outputs": [
    {
     "data": {
      "image/png": "[encoded data removed]",
      "text/plain": [
       "<Figure size 432x288 with 1 Axes>"
      ]
     },
     "metadata": {
      "needs_background": "light"
     },
     "output_type": "display_data"
    },
    {
     "data": {
      "image/png": "[encoded data removed]",
      "text/plain": [
       "<Figure size 432x288 with 1 Axes>"
      ]
     },
     "metadata": {
      "needs_background": "light"
     },
     "output_type": "display_data"
    }
   ],
   "source": [
    "def plot_history(history):\n",
    "    accuracy = history.history['accuracy']\n",
    "    val_accuracy = history.history['val_accuracy']\n",
    "    loss = history.history['loss']\n",
    "    val_loss = history.history['val_loss']\n",
    "\n",
    "    epochs = range(1, len(accuracy) + 1)\n",
    "\n",
    "    plt.figure()\n",
    "    plt.title('Training and validation accuracy')\n",
    "    plt.plot(epochs, accuracy, 'bo', label='Training acc')\n",
    "    plt.plot(epochs, val_accuracy, 'b', color='red', label='Validation acc')\n",
    "    plt.legend()\n",
    "    plt.show()\n",
    "\n",
    "    plt.figure()\n",
    "    plt.title('Training and validation loss')\n",
    "    plt.plot(epochs, loss, 'bo', label='Training loss')\n",
    "    plt.plot(epochs, val_loss, 'b', color='red', label='Validation loss')\n",
    "    plt.legend()\n",
    "    plt.show()\n",
    "    return accuracy, val_accuracy, loss, val_loss\n",
    "\n",
    "accuracy, val_accuracy, loss, val_loss = plot_history(history)"
   ]
  },
  {
   "cell_type": "code",
   "execution_count": 10,
   "metadata": {},
   "outputs": [],
   "source": [
    "model.save('inception.h5')"
   ]
  },
  {
   "cell_type": "code",
   "execution_count": null,
   "metadata": {},
   "outputs": [],
   "source": []
  },
  {
   "cell_type": "code",
   "execution_count": null,
   "metadata": {},
   "outputs": [],
   "source": []
  }
 ],
 "metadata": {
  "kernelspec": {
   "display_name": "Python 3",
   "language": "python",
   "name": "python3"
  },
  "language_info": {
   "codemirror_mode": {
    "name": "ipython",
    "version": 3
   },
   "file_extension": ".py",
   "mimetype": "text/x-python",
   "name": "python",
   "nbconvert_exporter": "python",
   "pygments_lexer": "ipython3",
   "version": "3.7.4"
  }
 },
 "nbformat": 4,
 "nbformat_minor": 2
}
